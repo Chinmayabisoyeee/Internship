{
 "cells": [
  {
   "cell_type": "code",
   "execution_count": 7,
   "id": "2517953e",
   "metadata": {},
   "outputs": [
    {
     "name": "stdout",
     "output_type": "stream",
     "text": [
      "Enter a number: -1\n",
      "Sorry, factorial does not exist for negative numbers\n"
     ]
    }
   ],
   "source": [
    "# Python program to find the factorial of a number provided by the user.\n",
    "\n",
    "num = int(input(\"Enter a number: \"))\n",
    "factorial =1\n",
    "if num < 0:\n",
    "   print(\"Sorry, factorial does not exist for negative numbers\")\n",
    "elif num == 0:\n",
    "   print(\"The factorial of 0 is 1\")\n",
    "else:\n",
    "   for i in range(1,num + 1):\n",
    "       factorial= factorial*i\n",
    "   print(\"The factorial of\",num,\"is\",factorial)\n"
   ]
  },
  {
   "cell_type": "code",
   "execution_count": 17,
   "id": "8e5346a7",
   "metadata": {},
   "outputs": [
    {
     "name": "stdout",
     "output_type": "stream",
     "text": [
      "Enter a number: 8\n",
      "8 is a composite number\n",
      "2 times 4 is 8\n"
     ]
    }
   ],
   "source": [
    "# python program to find whether a number is prime or composite.\n",
    "\n",
    "num = int(input(\"Enter a number: \"))\n",
    "\n",
    "if num > 1:\n",
    "   for i in range(2,num):\n",
    "       if (num % i) == 0:\n",
    "           print(num,\"is a composite number\")\n",
    "           print(i,\"times\",num//i,\"is\",num)\n",
    "           break\n",
    "   else:\n",
    "       print(num,\"is a prime number\")\n",
    "\n",
    "else:\n",
    "   print(num,\"is a neither prime NOR composite number\")\n"
   ]
  },
  {
   "cell_type": "code",
   "execution_count": 4,
   "id": "19a47abb",
   "metadata": {},
   "outputs": [
    {
     "name": "stdout",
     "output_type": "stream",
     "text": [
      "Enter a string:ada\n",
      "The string is a palindrome.\n"
     ]
    }
   ],
   "source": [
    "# program to check whether a given string is palindrome or not\n",
    "\n",
    "my_str =(input(\"Enter a string:\"))\n",
    "\n",
    "# make it suitable for caseless comparison\n",
    "my_str = my_str.casefold()\n",
    "\n",
    "# reverse the string\n",
    "rev_str = reversed(my_str)\n",
    "\n",
    "# check if the string is equal to its reverse\n",
    "if list(my_str) == list(rev_str):\n",
    "   print(\"The string is a palindrome.\")\n",
    "else:\n",
    "   print(\"The string is not a palindrome.\")\n",
    "\n"
   ]
  },
  {
   "cell_type": "code",
   "execution_count": 6,
   "id": "5803c188",
   "metadata": {},
   "outputs": [
    {
     "name": "stdout",
     "output_type": "stream",
     "text": [
      "Give side a: 4\n",
      "Give side b: 3\n",
      "The length of the hypotenuse c is 5.0\n"
     ]
    }
   ],
   "source": [
    "# python program to get third side of right-angled triangle from two given sides.\n",
    "import math\n",
    "\n",
    "a = float(input(\"Give side a: \"))\n",
    "b = float(input(\"Give side b: \"))\n",
    "\n",
    "c = math.sqrt(a ** 2 + b ** 2)\n",
    "\n",
    "print(f\"The length of the hypotenuse c is {c}\")"
   ]
  },
  {
   "cell_type": "code",
   "execution_count": 15,
   "id": "ca76db33",
   "metadata": {},
   "outputs": [
    {
     "name": "stdout",
     "output_type": "stream",
     "text": [
      "{'c': 1, 'h': 1, 'i': 1, 'n': 1, 'm': 1, 'a': 2, 'y': 1}\n"
     ]
    }
   ],
   "source": [
    "# python program to print frequency of each of the characters present in a given string.\n",
    "def char_frequency(str1):\n",
    "    dict = {}\n",
    "    for n in str1:\n",
    "        keys = dict.keys()\n",
    "        if n in keys:\n",
    "            dict[n] += 1\n",
    "        else:\n",
    "            dict[n] = 1\n",
    "    return dict\n",
    "print(char_frequency(\"chinmaya\"))\n"
   ]
  },
  {
   "cell_type": "code",
   "execution_count": null,
   "id": "e7bf0933",
   "metadata": {},
   "outputs": [],
   "source": []
  }
 ],
 "metadata": {
  "kernelspec": {
   "display_name": "Python 3 (ipykernel)",
   "language": "python",
   "name": "python3"
  },
  "language_info": {
   "codemirror_mode": {
    "name": "ipython",
    "version": 3
   },
   "file_extension": ".py",
   "mimetype": "text/x-python",
   "name": "python",
   "nbconvert_exporter": "python",
   "pygments_lexer": "ipython3",
   "version": "3.9.12"
  }
 },
 "nbformat": 4,
 "nbformat_minor": 5
}
